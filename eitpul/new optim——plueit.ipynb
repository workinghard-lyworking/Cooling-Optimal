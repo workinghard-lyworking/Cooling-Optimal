{
 "cells": [
  {
   "cell_type": "code",
   "execution_count": 1,
   "metadata": {},
   "outputs": [],
   "source": [
    "using Plots;plotly()\n",
    "using Optim\n",
    "using Zygote\n",
    "using Meteor.Utility\n",
    "using Meteor.ExactDiag\n",
    "using DataFrames;using CSV\n",
    "using Pkg"
   ]
  },
  {
   "cell_type": "code",
   "execution_count": 2,
   "metadata": {},
   "outputs": [],
   "source": [
    "using LinearAlgebra\n",
    "ccall((:openblas_get_num_threads64_, Base.libblas_name),Cint,())\n",
    "LinearAlgebra.BLAS.set_num_threads(8)"
   ]
  },
  {
   "cell_type": "code",
   "execution_count": 3,
   "metadata": {},
   "outputs": [
    {
     "data": {
      "text/plain": [
       "7"
      ]
     },
     "execution_count": 3,
     "metadata": {},
     "output_type": "execute_result"
    }
   ],
   "source": [
    "using Base.Threads;nthreads()"
   ]
  },
  {
   "cell_type": "code",
   "execution_count": 4,
   "metadata": {},
   "outputs": [
    {
     "data": {
      "text/plain": [
       "g! (generic function with 1 method)"
      ]
     },
     "execution_count": 4,
     "metadata": {},
     "output_type": "execute_result"
    }
   ],
   "source": [
    "function thermal_state(dims,nbar)\n",
    "    c::Array{Complex{Float64}}=zeros(dims,dims)\n",
    "    if nbar==0\n",
    "        c[1,1]=1\n",
    "    else\n",
    "        for i in 1:dims\n",
    "           c[i,i]= exp(-i*log(1/nbar+1))\n",
    "        end\n",
    "    end\n",
    "    c=c/tr(c)\n",
    "    return c        \n",
    "end\n",
    "\n",
    "function fock_state(dims,n)\n",
    "    c::Matrix{ComplexF64}=zeros(dims,dims)\n",
    "    if n<dims\n",
    "        c[n+1,n+1]=1\n",
    "    end\n",
    "    return c\n",
    "end\n",
    "\n",
    "function eye(n)\n",
    "    k::Array{Complex{Float64}}=zeros(n,n)\n",
    "    for i in 1:n\n",
    "        k[i,i]=1\n",
    "    end\n",
    "    return k    \n",
    "end\n",
    "\n",
    "\n",
    "function a₋(n)      #n为维数\n",
    "    s::Array{Complex{Float64}}=zeros(n,n)\n",
    "    for i=1:n-1\n",
    "        s[i,i+1]=sqrt(i)\n",
    "    end\n",
    "    return s\n",
    "end\n",
    "\n",
    "a₊(n)=adjoint(a₋(n));\n",
    "\n",
    "dim=10\n",
    "ν=1\n",
    "dot_num=30\n",
    "initial_state=kron([1.0 0 0;0 0 0;0 0 0],thermal_state(dim,1))\n",
    "#########密度矩阵向量化，超算子维数变成n^2*n^2维,态矩阵厄米，只用存一半？意义不大\n",
    "function dm2vec(dm)#态向量化\n",
    "#julia里是按列reshape的,reshape成列向量\n",
    "    return reshape(dm,:,1)\n",
    "end\n",
    "\n",
    "function vec2dm(vec)\n",
    "    return reshape(vec,3*dim,:)\n",
    "end\n",
    "\n",
    "\n",
    "n=kron(eye(3),a₊(dim)*a₋(dim))\n",
    "en=kron([0 0 0;0 0 0;0 0 1],eye(dim))\n",
    "rr=kron([0 0 0;0 1 0;0 0 0],eye(dim))\n",
    "η1=0.15\n",
    "η2=-0.15\n",
    "a=a₊(dim)+a₋(dim)\n",
    "ag2=kron([0 0 0;0 0 0;1 0 0],exp(im*η1*a))\n",
    "ag3=kron([0 0 1;0 0 0;0 0 0],exp(-im*η1*a))\n",
    "ag4=ag2+ag3\n",
    "ar2=kron([0 0 0;0 0 0;0 1 0],exp(im*η2*a))\n",
    "ar3=kron([0 0 0;0 0 1;0 0 0],exp(-im*η2*a))\n",
    "ar4=ar2+ar3\n",
    "\n",
    "E=eye(3*dim)\n",
    "γ1=40/3*ν\n",
    "γ2=20/3*ν\n",
    "\n",
    "function diss1()\n",
    "    dtheta = 0.01\n",
    "    x=zeros((3*dim)^2,(3*dim)^2)\n",
    "    for theta in -1:dtheta:1\n",
    "        c = dtheta * 0.75 * (1 + theta^2)\n",
    "        jump = sqrt(c / 2) * exp(im*η1*theta*a)\n",
    "        aup=kron([0 0 0;0 0 0;1 0 0],jump')\n",
    "        adown=kron([0 0 1;0 0 0;0 0 0],jump)\n",
    "        x=x+kron(transpose(aup),adown)-0.5*kron(E,aup*adown)-0.5*kron(transpose(aup*adown),E)\n",
    "    end\n",
    "    return x\n",
    "end\n",
    "function diss2()\n",
    "    dtheta = 0.01\n",
    "    x=zeros((3*dim)^2,(3*dim)^2)\n",
    "    for theta in -1:dtheta:1\n",
    "        c = dtheta * 0.75 * (1 + theta^2)\n",
    "        jump = sqrt(c / 2) * exp(im*η2*theta*a)\n",
    "        aup=kron([0 0 0;0 0 0;0 1 0],jump')\n",
    "        adown=kron([0 0 0;0 0 1;0 0 0],jump)\n",
    "        x=x+kron(transpose(aup),adown)-0.5*kron(E,aup*adown)-0.5*kron(transpose(aup*adown),E)\n",
    "    end\n",
    "    return x\n",
    "end\n",
    "\n",
    "dissipation1=γ1*diss1()\n",
    "dissipation2=γ2*diss2()\n",
    "\n",
    "# Δg=(Ωr^2+Ωg^2)/ν-ν\n",
    "# Δr=Δg\n",
    "\n",
    "function eit_Lindbladian_vec(Ωg,Ωr,Δ)\n",
    "    unitary::Matrix{ComplexF64}=kron(E,-im*(ν*n-Δ*en+Ωg/2*ag4+Ωr/2*ar4))+kron(transpose(im*((ν*n-Δ*en+Ωg/2*ag4+Ωr/2*ar4))),E)\n",
    "    \n",
    "    return unitary+dissipation1+dissipation2\n",
    "end\n",
    "\n",
    "instate=dm2vec(initial_state);\n",
    "#分段优化的话应该优化比如3次，只不过改变初始态，EIT冷却过程中的态是什么样的呢\n",
    "# function feval(x)\n",
    "#     f=exp(50*eit_Lindbladian_vec(x[1],x[2],x[3]))*instate\n",
    "#     a=real(tr(n*vec2dm(f)))\n",
    "\n",
    "#     print(a,\" \")\n",
    "#     return a\n",
    "# end\n",
    "\n",
    "# function g!(G,seq)\n",
    "#     print(\"g!  \")\n",
    "#     a=real(gradient(feval,seq)[1])\n",
    "#     for i in 1:length(seq)\n",
    "#        G[i]=a[i] \n",
    "#     end\n",
    "# end"
   ]
  },
  {
   "cell_type": "code",
   "execution_count": 5,
   "metadata": {},
   "outputs": [],
   "source": [
    "# @time res=optimize(feval,g!,[3.6103223565556357,21.05702368447422,111.9645147569779],LBFGS(),Optim.Options(x_tol=1e-4))"
   ]
  },
  {
   "cell_type": "code",
   "execution_count": 6,
   "metadata": {},
   "outputs": [],
   "source": [
    "# Optim.minimum(res)"
   ]
  },
  {
   "cell_type": "code",
   "execution_count": 7,
   "metadata": {},
   "outputs": [],
   "source": [
    "# se1=Optim.minimizer(res)"
   ]
  },
  {
   "cell_type": "code",
   "execution_count": 17,
   "metadata": {},
   "outputs": [
    {
     "data": {
      "text/html": [
       "# 14 methods for generic function <b>ptrace</b>:<ul><li> ptrace(basis::<b>Array{Int64,1}</b>, v::<b>Union{AbstractArray{T,2} where T, AbstractArray{T,1} where T}</b>, sites::<b>Array{Int64,1}</b>; <i>mode</i>) in Meteor.ExactDiag.Model.Utility at <a href=\"file:///Users/pidan/Downloads/Meteor.jl-develop/src/ExactDiag/Model/Utility/ptrace.jl\" target=\"_blank\">/Users/pidan/Downloads/Meteor.jl-develop/src/ExactDiag/Model/Utility/ptrace.jl:38</a></li> <li> ptrace(dim::<b>Array{Int64,1}</b>, m::<b>MappedMatrix{var\"#s177\",1} where var\"#s177\"<:(AbstractArray{T,2} where T)</b>, sites::<b>Array{Int64,1}</b>; <i>mode</i>) in Meteor.ExactDiag.Model.Utility at <a href=\"file:///Users/pidan/Downloads/Meteor.jl-develop/src/ExactDiag/Model/Utility/ptrace.jl\" target=\"_blank\">/Users/pidan/Downloads/Meteor.jl-develop/src/ExactDiag/Model/Utility/ptrace.jl:76</a></li> <li> ptrace(dim::<b>Array{Int64,1}</b>, v::<b>Meteor.ExactDiag.Basis.AbstractMappedVector</b>, sites::<b>Array{Int64,1}</b>; <i>mode</i>) in Meteor.ExactDiag.Model.Utility at <a href=\"file:///Users/pidan/Downloads/Meteor.jl-develop/src/ExactDiag/Model/Utility/ptrace.jl\" target=\"_blank\">/Users/pidan/Downloads/Meteor.jl-develop/src/ExactDiag/Model/Utility/ptrace.jl:78</a></li> <li> ptrace(mps::<b>Meteor.TensorNetwork.AbstractMPS{Array{T,3}} where T</b>, sites::<b>Array{Int64,1}</b>; <i>isunitary</i>) in Meteor.Model.Utility at <a href=\"file:///Users/pidan/Downloads/Meteor.jl-develop/src/Model/Utility/partialtrace.jl\" target=\"_blank\">/Users/pidan/Downloads/Meteor.jl-develop/src/Model/Utility/partialtrace.jl:158</a></li> <li> ptrace(mps::<b>Meteor.TensorNetwork.AbstractMPS</b>, sites::<b>Array{Int64,1}</b>, idens; <i>isunitary</i>) in Meteor.Model.Utility at <a href=\"file:///Users/pidan/Downloads/Meteor.jl-develop/src/Model/Utility/partialtrace.jl\" target=\"_blank\">/Users/pidan/Downloads/Meteor.jl-develop/src/Model/Utility/partialtrace.jl:151</a></li> <li> ptrace(model::<b>Meteor.Model.AbstractUnitaryModel</b>, sites::<b>Array{Int64,1}</b>) in Meteor.Model.Utility at <a href=\"file:///Users/pidan/Downloads/Meteor.jl-develop/src/Model/Utility/partialtrace.jl\" target=\"_blank\">/Users/pidan/Downloads/Meteor.jl-develop/src/Model/Utility/partialtrace.jl:166</a></li> <li> ptrace(model::<b>Meteor.Model.AbstractOpenModel</b>, sites::<b>Array{Int64,1}</b>) in Meteor.Model.Utility at <a href=\"file:///Users/pidan/Downloads/Meteor.jl-develop/src/Model/Utility/partialtrace.jl\" target=\"_blank\">/Users/pidan/Downloads/Meteor.jl-develop/src/Model/Utility/partialtrace.jl:176</a></li> <li> ptrace(basis::<b>Meteor.ExactDiag.Basis.AbstractNonSymmetricBasis</b>, v::<b>AbstractArray{T,2} where T</b>, sites::<b>Array{Int64,1}</b>) in Meteor.ExactDiag.Model.Utility at <a href=\"file:///Users/pidan/Downloads/Meteor.jl-develop/src/ExactDiag/Model/Utility/ptrace.jl\" target=\"_blank\">/Users/pidan/Downloads/Meteor.jl-develop/src/ExactDiag/Model/Utility/ptrace.jl:34</a></li> <li> ptrace(basis::<b>Meteor.ExactDiag.Basis.AbstractNonSymmetricBasis</b>, v::<b>AbstractArray{T,1} where T</b>, sites::<b>Array{Int64,1}</b>) in Meteor.ExactDiag.Model.Utility at <a href=\"file:///Users/pidan/Downloads/Meteor.jl-develop/src/ExactDiag/Model/Utility/ptrace.jl\" target=\"_blank\">/Users/pidan/Downloads/Meteor.jl-develop/src/ExactDiag/Model/Utility/ptrace.jl:35</a></li> <li> ptrace(basis::<b>Meteor.ExactDiag.Basis.AbstractNonSymmetricBasis</b>, v::<b>Union{AbstractArray{T,2} where T, AbstractArray{T,1} where T}</b>, sites::<b>Array{Int64,1}</b>; <i>mode</i>) in Meteor.ExactDiag.Model.Utility at <a href=\"file:///Users/pidan/Downloads/Meteor.jl-develop/src/ExactDiag/Model/Utility/ptrace.jl\" target=\"_blank\">/Users/pidan/Downloads/Meteor.jl-develop/src/ExactDiag/Model/Utility/ptrace.jl:36</a></li> <li> ptrace(basis::<b>Meteor.ExactDiag.Basis.AbstractGenericSymmetricBasis</b>, m::<b>MappedMatrix{var\"#s177\",1} where var\"#s177\"<:(AbstractArray{T,2} where T)</b>, sites::<b>Array{Int64,1}</b>; <i>mode</i>) in Meteor.ExactDiag.Model.Utility at <a href=\"file:///Users/pidan/Downloads/Meteor.jl-develop/src/ExactDiag/Model/Utility/ptrace.jl\" target=\"_blank\">/Users/pidan/Downloads/Meteor.jl-develop/src/ExactDiag/Model/Utility/ptrace.jl:72</a></li> <li> ptrace(basis::<b>Meteor.ExactDiag.Basis.AbstractGenericSymmetricBasis</b>, v::<b>Meteor.ExactDiag.Basis.AbstractMappedVector</b>, sites::<b>Array{Int64,1}</b>; <i>mode</i>) in Meteor.ExactDiag.Model.Utility at <a href=\"file:///Users/pidan/Downloads/Meteor.jl-develop/src/ExactDiag/Model/Utility/ptrace.jl\" target=\"_blank\">/Users/pidan/Downloads/Meteor.jl-develop/src/ExactDiag/Model/Utility/ptrace.jl:74</a></li> <li> ptrace(model::<b>Meteor.ExactDiag.Model.AbstractModel</b>, sites::<b>Array{Int64,1}</b>) in Meteor.ExactDiag.Model.Utility at <a href=\"file:///Users/pidan/Downloads/Meteor.jl-develop/src/ExactDiag/Model/Utility/ptrace.jl\" target=\"_blank\">/Users/pidan/Downloads/Meteor.jl-develop/src/ExactDiag/Model/Utility/ptrace.jl:81</a></li> <li> ptrace(v::<b>AbstractArray{T,1} where T</b>, pos::<b>Array{Int64,1}</b>) in Meteor.QuantumCircuit at <a href=\"file:///Users/pidan/Downloads/Meteor.jl-develop/src/QuantumCircuit/backends/statevector/def.jl\" target=\"_blank\">/Users/pidan/Downloads/Meteor.jl-develop/src/QuantumCircuit/backends/statevector/def.jl:151</a></li> </ul>"
      ],
      "text/plain": [
       "# 14 methods for generic function \"ptrace\":\n",
       "[1] ptrace(basis::Array{Int64,1}, v::Union{AbstractArray{T,2} where T, AbstractArray{T,1} where T}, sites::Array{Int64,1}; mode) in Meteor.ExactDiag.Model.Utility at /Users/pidan/Downloads/Meteor.jl-develop/src/ExactDiag/Model/Utility/ptrace.jl:38\n",
       "[2] ptrace(dim::Array{Int64,1}, m::MappedMatrix{var\"#s177\",1} where var\"#s177\"<:(AbstractArray{T,2} where T), sites::Array{Int64,1}; mode) in Meteor.ExactDiag.Model.Utility at /Users/pidan/Downloads/Meteor.jl-develop/src/ExactDiag/Model/Utility/ptrace.jl:76\n",
       "[3] ptrace(dim::Array{Int64,1}, v::Meteor.ExactDiag.Basis.AbstractMappedVector, sites::Array{Int64,1}; mode) in Meteor.ExactDiag.Model.Utility at /Users/pidan/Downloads/Meteor.jl-develop/src/ExactDiag/Model/Utility/ptrace.jl:78\n",
       "[4] ptrace(mps::Meteor.TensorNetwork.AbstractMPS{Array{T,3}} where T, sites::Array{Int64,1}; isunitary) in Meteor.Model.Utility at /Users/pidan/Downloads/Meteor.jl-develop/src/Model/Utility/partialtrace.jl:158\n",
       "[5] ptrace(mps::Meteor.TensorNetwork.AbstractMPS, sites::Array{Int64,1}, idens; isunitary) in Meteor.Model.Utility at /Users/pidan/Downloads/Meteor.jl-develop/src/Model/Utility/partialtrace.jl:151\n",
       "[6] ptrace(model::Meteor.Model.AbstractUnitaryModel, sites::Array{Int64,1}) in Meteor.Model.Utility at /Users/pidan/Downloads/Meteor.jl-develop/src/Model/Utility/partialtrace.jl:166\n",
       "[7] ptrace(model::Meteor.Model.AbstractOpenModel, sites::Array{Int64,1}) in Meteor.Model.Utility at /Users/pidan/Downloads/Meteor.jl-develop/src/Model/Utility/partialtrace.jl:176\n",
       "[8] ptrace(basis::Meteor.ExactDiag.Basis.AbstractNonSymmetricBasis, v::AbstractArray{T,2} where T, sites::Array{Int64,1}) in Meteor.ExactDiag.Model.Utility at /Users/pidan/Downloads/Meteor.jl-develop/src/ExactDiag/Model/Utility/ptrace.jl:34\n",
       "[9] ptrace(basis::Meteor.ExactDiag.Basis.AbstractNonSymmetricBasis, v::AbstractArray{T,1} where T, sites::Array{Int64,1}) in Meteor.ExactDiag.Model.Utility at /Users/pidan/Downloads/Meteor.jl-develop/src/ExactDiag/Model/Utility/ptrace.jl:35\n",
       "[10] ptrace(basis::Meteor.ExactDiag.Basis.AbstractNonSymmetricBasis, v::Union{AbstractArray{T,2} where T, AbstractArray{T,1} where T}, sites::Array{Int64,1}; mode) in Meteor.ExactDiag.Model.Utility at /Users/pidan/Downloads/Meteor.jl-develop/src/ExactDiag/Model/Utility/ptrace.jl:36\n",
       "[11] ptrace(basis::Meteor.ExactDiag.Basis.AbstractGenericSymmetricBasis, m::MappedMatrix{var\"#s177\",1} where var\"#s177\"<:(AbstractArray{T,2} where T), sites::Array{Int64,1}; mode) in Meteor.ExactDiag.Model.Utility at /Users/pidan/Downloads/Meteor.jl-develop/src/ExactDiag/Model/Utility/ptrace.jl:72\n",
       "[12] ptrace(basis::Meteor.ExactDiag.Basis.AbstractGenericSymmetricBasis, v::Meteor.ExactDiag.Basis.AbstractMappedVector, sites::Array{Int64,1}; mode) in Meteor.ExactDiag.Model.Utility at /Users/pidan/Downloads/Meteor.jl-develop/src/ExactDiag/Model/Utility/ptrace.jl:74\n",
       "[13] ptrace(model::Meteor.ExactDiag.Model.AbstractModel, sites::Array{Int64,1}) in Meteor.ExactDiag.Model.Utility at /Users/pidan/Downloads/Meteor.jl-develop/src/ExactDiag/Model/Utility/ptrace.jl:81\n",
       "[14] ptrace(v::AbstractArray{T,1} where T, pos::Array{Int64,1}) in Meteor.QuantumCircuit at /Users/pidan/Downloads/Meteor.jl-develop/src/QuantumCircuit/backends/statevector/def.jl:151"
      ]
     },
     "execution_count": 17,
     "metadata": {},
     "output_type": "execute_result"
    }
   ],
   "source": [
    "methods(ptrace)"
   ]
  },
  {
   "cell_type": "code",
   "execution_count": null,
   "metadata": {},
   "outputs": [],
   "source": []
  }
 ],
 "metadata": {
  "@webio": {
   "lastCommId": null,
   "lastKernelId": null
  },
  "kernelspec": {
   "display_name": "Julia 1.5.2",
   "language": "julia",
   "name": "julia-1.5"
  },
  "language_info": {
   "file_extension": ".jl",
   "mimetype": "application/julia",
   "name": "julia",
   "version": "1.5.2"
  }
 },
 "nbformat": 4,
 "nbformat_minor": 4
}
