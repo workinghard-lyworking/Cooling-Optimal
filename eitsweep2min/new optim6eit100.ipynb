{
 "cells": [
  {
   "cell_type": "code",
   "execution_count": 1,
   "metadata": {},
   "outputs": [],
   "source": [
    "using Plots;plotly()\n",
    "using Optim\n",
    "using Zygote\n",
    "using Meteor.Utility\n",
    "using Meteor.ExactDiag\n",
    "using DataFrames;using CSV\n",
    "using Pkg"
   ]
  },
  {
   "cell_type": "code",
   "execution_count": 2,
   "metadata": {},
   "outputs": [],
   "source": [
    "using LinearAlgebra\n",
    "ccall((:openblas_get_num_threads64_, Base.libblas_name),Cint,())\n",
    "LinearAlgebra.BLAS.set_num_threads(8)"
   ]
  },
  {
   "cell_type": "code",
   "execution_count": 3,
   "metadata": {},
   "outputs": [
    {
     "data": {
      "text/plain": [
       "7"
      ]
     },
     "execution_count": 3,
     "metadata": {},
     "output_type": "execute_result"
    }
   ],
   "source": [
    "using Base.Threads;nthreads()"
   ]
  },
  {
   "cell_type": "code",
   "execution_count": 6,
   "metadata": {},
   "outputs": [],
   "source": [
    "function thermal_state(dims,nbar)\n",
    "    c::Array{Complex{Float64}}=zeros(dims,dims)\n",
    "    if nbar==0\n",
    "        c[1,1]=1\n",
    "    else\n",
    "        for i in 1:dims\n",
    "           c[i,i]= exp(-i*log(1/nbar+1))\n",
    "        end\n",
    "    end\n",
    "    c=c/tr(c)\n",
    "    return c        \n",
    "end\n",
    "\n",
    "function fock_state(dims,n)\n",
    "    c::Matrix{ComplexF64}=zeros(dims,dims)\n",
    "    if n<dims\n",
    "        c[n+1,n+1]=1\n",
    "    end\n",
    "    return c\n",
    "end\n",
    "\n",
    "function eye(n)\n",
    "    k::Array{Complex{Float64}}=zeros(n,n)\n",
    "    for i in 1:n\n",
    "        k[i,i]=1\n",
    "    end\n",
    "    return k    \n",
    "end\n",
    "\n",
    "\n",
    "function a₋(n)      #n为维数\n",
    "    s::Array{Complex{Float64}}=zeros(n,n)\n",
    "    for i=1:n-1\n",
    "        s[i,i+1]=sqrt(i)\n",
    "    end\n",
    "    return s\n",
    "end\n",
    "\n",
    "a₊(n)=adjoint(a₋(n));\n",
    "\n",
    "dim=10\n",
    "ν=1\n",
    "dot_num=30\n",
    "initial_state=kron([1.0 0 0;0 0 0;0 0 0],thermal_state(dim,1))\n",
    "#########密度矩阵向量化，超算子维数变成n^2*n^2维,态矩阵厄米，只用存一半？意义不大\n",
    "function dm2vec(dm)#态向量化\n",
    "#julia里是按列reshape的,reshape成列向量\n",
    "    return reshape(dm,:,1)\n",
    "end\n",
    "\n",
    "function vec2dm(vec)\n",
    "    return reshape(vec,3*dim,:)\n",
    "end\n",
    "\n",
    "\n",
    "n=kron(eye(3),a₊(dim)*a₋(dim))\n",
    "en=kron([0 0 0;0 0 0;0 0 1],eye(dim))\n",
    "rr=kron([0 0 0;0 1 0;0 0 0],eye(dim))\n",
    "η1=0.15\n",
    "η2=-0.15\n",
    "a=a₊(dim)+a₋(dim)\n",
    "ag2=kron([0 0 0;0 0 0;1 0 0],exp(im*η1*a))\n",
    "ag3=kron([0 0 1;0 0 0;0 0 0],exp(-im*η1*a))\n",
    "ag4=ag2+ag3\n",
    "ar2=kron([0 0 0;0 0 0;0 1 0],exp(im*η2*a))\n",
    "ar3=kron([0 0 0;0 0 1;0 0 0],exp(-im*η2*a))\n",
    "ar4=ar2+ar3\n",
    "\n",
    "E=eye(3*dim)\n",
    "γ1=20/3*ν\n",
    "γ2=40/3*ν\n",
    "\n",
    "function diss1()\n",
    "    dtheta = 0.01\n",
    "    x=zeros((3*dim)^2,(3*dim)^2)\n",
    "    for theta in -1:dtheta:1\n",
    "        c = dtheta * 0.75 * (1 + theta^2)\n",
    "        jump = sqrt(c / 2) * exp(im*η1*theta*a)\n",
    "        aup=kron([0 0 0;0 0 0;1 0 0],jump')\n",
    "        adown=kron([0 0 1;0 0 0;0 0 0],jump)\n",
    "        x=x+kron(transpose(aup),adown)-0.5*kron(E,aup*adown)-0.5*kron(transpose(aup*adown),E)\n",
    "    end\n",
    "    return x\n",
    "end\n",
    "function diss2()\n",
    "    dtheta = 0.01\n",
    "    x=zeros((3*dim)^2,(3*dim)^2)\n",
    "    for theta in -1:dtheta:1\n",
    "        c = dtheta * 0.75 * (1 + theta^2)\n",
    "        jump = sqrt(c / 2) * exp(im*η2*theta*a)\n",
    "        aup=kron([0 0 0;0 0 0;0 1 0],jump')\n",
    "        adown=kron([0 0 0;0 0 1;0 0 0],jump)\n",
    "        x=x+kron(transpose(aup),adown)-0.5*kron(E,aup*adown)-0.5*kron(transpose(aup*adown),E)\n",
    "    end\n",
    "    return x\n",
    "end\n",
    "\n",
    "dissipation1=γ1*diss1()\n",
    "dissipation2=γ2*diss2()\n",
    "\n",
    "# Δg=(Ωr^2+Ωg^2)/ν-ν\n",
    "# Δr=Δg\n",
    "\n",
    "function eit_Lindbladian_vec(Ωg,Ωr,Δ)\n",
    "    unitary::Matrix{ComplexF64}=kron(E,-im*(ν*n-Δ*en+Ωg/2*ag4+Ωr/2*ar4))+kron(transpose(im*((ν*n-Δ*en+Ωg/2*ag4+Ωr/2*ar4))),E)\n",
    "    \n",
    "    return unitary+dissipation1+dissipation2\n",
    "end\n",
    "\n",
    "instate=dm2vec(initial_state);\n"
   ]
  },
  {
   "cell_type": "code",
   "execution_count": 41,
   "metadata": {
    "collapsed": true
   },
   "outputs": [
    {
     "name": "stdout",
     "output_type": "stream",
     "text": [
      "1 \n",
      " f 0.24480412738240356 f 0.2448064942559322"
     ]
    },
    {
     "ename": "LoadError",
     "evalue": "\u001b[91mInterruptException:\u001b[39m",
     "output_type": "error",
     "traceback": [
      "\u001b[91mInterruptException:\u001b[39m",
      "",
      "Stacktrace:",
      " [1] Array at ./boot.jl:408 [inlined]",
      " [2] Array at ./boot.jl:416 [inlined]",
      " [3] similar at ./array.jl:380 [inlined]",
      " [4] * at /Users/julia/buildbot/worker/package_macos64/build/usr/share/julia/stdlib/v1.5/LinearAlgebra/src/matmul.jl:164 [inlined]",
      " [5] exp!(::Array{Complex{Float64},2}) at /Users/julia/buildbot/worker/package_macos64/build/usr/share/julia/stdlib/v1.5/LinearAlgebra/src/dense.jl:613",
      " [6] exp(::Array{Complex{Float64},2}) at /Users/julia/buildbot/worker/package_macos64/build/usr/share/julia/stdlib/v1.5/LinearAlgebra/src/dense.jl:523",
      " [7] (::var\"#feval#18\"{Int64,Float64})(::Array{Float64,2}) at ./In[41]:15",
      " [8] finite_difference_gradient!(::Array{Float64,2}, ::var\"#feval#18\"{Int64,Float64}, ::Array{Float64,2}, ::FiniteDiff.GradientCache{Nothing,Array{Float64,2},Array{Float64,2},Array{Float64,2},Val{:central}(),Float64,Val{true}()}; relstep::Float64, absstep::Float64, dir::Bool) at /Users/pidan/.julia/packages/FiniteDiff/blirf/src/gradients.jl:185",
      " [9] finite_difference_gradient!(::Array{Float64,2}, ::Function, ::Array{Float64,2}, ::FiniteDiff.GradientCache{Nothing,Array{Float64,2},Array{Float64,2},Array{Float64,2},Val{:central}(),Float64,Val{true}()}) at /Users/pidan/.julia/packages/FiniteDiff/blirf/src/gradients.jl:138",
      " [10] (::NLSolversBase.var\"#g!#15\"{var\"#feval#18\"{Int64,Float64},FiniteDiff.GradientCache{Nothing,Array{Float64,2},Array{Float64,2},Array{Float64,2},Val{:central}(),Float64,Val{true}()}})(::Array{Float64,2}, ::Array{Float64,2}) at /Users/pidan/.julia/packages/NLSolversBase/QPnui/src/objective_types/oncedifferentiable.jl:57",
      " [11] (::NLSolversBase.var\"#fg!#16\"{var\"#feval#18\"{Int64,Float64}})(::Array{Float64,2}, ::Array{Float64,2}) at /Users/pidan/.julia/packages/NLSolversBase/QPnui/src/objective_types/oncedifferentiable.jl:61",
      " [12] value_gradient!!(::OnceDifferentiable{Float64,Array{Float64,2},Array{Float64,2}}, ::Array{Float64,2}) at /Users/pidan/.julia/packages/NLSolversBase/QPnui/src/interface.jl:82",
      " [13] initial_state(::LBFGS{Nothing,LineSearches.InitialStatic{Float64},LineSearches.HagerZhang{Float64,Base.RefValue{Bool}},Optim.var\"#17#19\"}, ::Optim.Options{Float64,Nothing}, ::OnceDifferentiable{Float64,Array{Float64,2},Array{Float64,2}}, ::Array{Float64,2}) at /Users/pidan/.julia/packages/Optim/onG5j/src/multivariate/solvers/first_order/l_bfgs.jl:164",
      " [14] optimize(::OnceDifferentiable{Float64,Array{Float64,2},Array{Float64,2}}, ::Array{Float64,2}, ::LBFGS{Nothing,LineSearches.InitialStatic{Float64},LineSearches.HagerZhang{Float64,Base.RefValue{Bool}},Optim.var\"#17#19\"}, ::Optim.Options{Float64,Nothing}) at /Users/pidan/.julia/packages/Optim/onG5j/src/multivariate/optimize/optimize.jl:35",
      " [15] #optimize#87 at /Users/pidan/.julia/packages/Optim/onG5j/src/multivariate/optimize/interface.jl:142 [inlined]",
      " [16] optimize(::Function, ::Array{Float64,2}, ::LBFGS{Nothing,LineSearches.InitialStatic{Float64},LineSearches.HagerZhang{Float64,Base.RefValue{Bool}},Optim.var\"#17#19\"}, ::Optim.Options{Float64,Nothing}) at /Users/pidan/.julia/packages/Optim/onG5j/src/multivariate/optimize/interface.jl:141 (repeats 2 times)",
      " [17] sweep_detuning_100() at ./In[41]:21",
      " [18] top-level scope at ./timing.jl:174 [inlined]",
      " [19] top-level scope at ./In[41]:0",
      " [20] include_string(::Function, ::Module, ::String, ::String) at ./loading.jl:1091"
     ]
    }
   ],
   "source": [
    "function sweep_detuning_100()\n",
    "    ttot=100\n",
    "    initial_x=[5.121757941 10.35114471]\n",
    "    sweep_num=140\n",
    "    start=10\n",
    "    stop=150\n",
    "    d=[]\n",
    "    somega_g=[]\n",
    "    somega_r=[]\n",
    "    sn=[]\n",
    "    for i in 1:sweep_num\n",
    "        println(\" \")\n",
    "        println(i,\" \")\n",
    "        m=start+(i-1)*(stop-start)/sweep_num\n",
    "        function feval(x)\n",
    "            f=exp(ttot*eit_Lindbladian_vec(x[1],x[2],m))*instate\n",
    "            nbose=real(tr(n*vec2dm(f)))\n",
    "            print(\" f \",nbose,\" \")\n",
    "            return nbose\n",
    "        end        \n",
    "\n",
    "        a=optimize(feval,initial_x,LBFGS())\n",
    "        initial_x=Optim.minimizer(a) \n",
    "        append!(somega_g,initial_x[1])  \n",
    "        append!(somega_r,initial_x[2])\n",
    "        append!(sn,Optim.minimum(a)[1])\n",
    "        append!(d,m)\n",
    "        df1=DataFrame(delta=d,omega_g=somega_g,omega_r=somega_r,n=sn);CSV.write(\"eit_sweep_detuning_100.csv\", df1);\n",
    "    end\n",
    "    return somega_g,somega_r,sn,d\n",
    "end\n",
    "@time res=sweep_detuning_100()\n"
   ]
  },
  {
   "cell_type": "code",
   "execution_count": null,
   "metadata": {},
   "outputs": [],
   "source": []
  }
 ],
 "metadata": {
  "@webio": {
   "lastCommId": null,
   "lastKernelId": null
  },
  "kernelspec": {
   "display_name": "Julia 1.5.2",
   "language": "julia",
   "name": "julia-1.5"
  },
  "language_info": {
   "file_extension": ".jl",
   "mimetype": "application/julia",
   "name": "julia",
   "version": "1.5.2"
  }
 },
 "nbformat": 4,
 "nbformat_minor": 4
}
